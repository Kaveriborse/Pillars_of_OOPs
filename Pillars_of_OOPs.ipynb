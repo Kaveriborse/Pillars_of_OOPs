{
 "cells": [
  {
   "cell_type": "markdown",
   "id": "039e0d7c",
   "metadata": {},
   "source": [
    "The pillars of object-oriented programming (OOP) are the four fundamental principles that serve as the foundation for designing and building object-oriented software systems. These principles are:"
   ]
  },
  {
   "cell_type": "markdown",
   "id": "97abffe4",
   "metadata": {},
   "source": [
    "# 1.Polymorphism"
   ]
  },
  {
   "cell_type": "markdown",
   "id": "2884f97d",
   "metadata": {},
   "source": [
    "Polymorphism is a fundamental concept in object-oriented programming (OOP) that allows objects of different classes to be treated as objects of a common superclass. It enables a single interface to represent multiple types of objects and is one of the four pillars of OOP"
   ]
  },
  {
   "cell_type": "markdown",
   "id": "04061955",
   "metadata": {},
   "source": [
    "# 2.Inheritance"
   ]
  },
  {
   "cell_type": "markdown",
   "id": "413d4614",
   "metadata": {},
   "source": [
    "Inheritance is another fundamental concept in object-oriented programming (OOP) that facilitates the creation of new classes (known as subclasses or derived classes) based on existing classes (known as base classes or parent classes). Inheritance allows the subclass to inherit the properties and behaviors (data members and methods) of the superclass, and it extends the existing functionality while promoting code reuse and maintaining a hierarchical relationship among classes."
   ]
  },
  {
   "cell_type": "markdown",
   "id": "de8aae71",
   "metadata": {},
   "source": [
    "# 3.Encapsulation"
   ]
  },
  {
   "cell_type": "markdown",
   "id": "f941e188",
   "metadata": {},
   "source": [
    "It is a concept that aims to bundle data (attributes) and the methods (functions) that operate on that data within a single unit called a class. The main idea behind encapsulation is to hide the internal implementation details of an object from the outside world while providing a well-defined interface for interacting with the object. This helps in achieving data protection and abstraction, enhancing the security and maintainability of the code."
   ]
  },
  {
   "cell_type": "markdown",
   "id": "6f0479e6",
   "metadata": {},
   "source": [
    "# 4.Abstraction"
   ]
  },
  {
   "cell_type": "markdown",
   "id": "1f6c4ebd",
   "metadata": {},
   "source": [
    "It refers to the process of simplifying complex real-world entities into their essential characteristics, capturing only the relevant details while ignoring the irrelevant ones. Abstraction allows developers to create models or representations of objects in the software that closely mimic the real-world objects they are trying to simulate."
   ]
  },
  {
   "cell_type": "markdown",
   "id": "6922796d",
   "metadata": {},
   "source": [
    "# Examples"
   ]
  },
  {
   "cell_type": "markdown",
   "id": "65715f31",
   "metadata": {},
   "source": [
    "1.the Person class has a constructor that takes name and age as arguments and assigns them to the object's attributes. The introduce method is then invoked on the object to introduce the person.\n",
    "\n",
    "2.the Car class has a constructor that takes brand and model as arguments and assigns them to the object's attributes. The display_info method is then invoked on the object to display the car's brand and model.\n",
    "\n",
    "3.the BankAccount class has a constructor that takes account_number and balance as arguments and assigns them to the object's attributes. The display_balance method is then invoked on the object to display the account number and balance.\n",
    "\n",
    "4.the Book class has a constructor that takes title and author as arguments and assigns them to the object's attributes. The display_info method is then invoked on the object to display the book's title and author.\n",
    "\n",
    "5.Vehicles: Create a base class called Vehicle with attributes such as make, model, and year. Implement two subclasses Car and Motorcycle that inherit from Vehicle. Add additional methods to the subclasses, such as start_engine() and stop_engine(), and handle any specific behavior or rules for each vehicle type.\n",
    "\n",
    "6.Animals: Create a base class called Animal with methods such as eat() and sleep(). Implement two subclasses Dog and Cat that inherit from Animal. Add additional methods to the subclasses, such as bark() for dogs and meow() for cats, and handle any specific behavior or rules for each animal type.\n",
    "\n",
    "7.Library Catalog: Create a base class called LibraryItem with attributes such as title, author, and publication_year. Implement two subclasses Book and Magazine that inherit from LibraryItem. Add additional methods to the subclasses, such as checkout() and return_item(), and handle any specific behavior or rules for each item type.\n",
    "\n",
    "8.Employees and Departments: Create a base class called Employee with attributes such as name, salary, and department. Implement two subclasses Manager and Staff that inherit from Employee. Add additional methods to the subclasses, such as assign_task() for managers and attend_meeting() for staff members. Create a separate class called Department that contains a list of employees and methods to add or remove employees from the department.\n",
    "\n",
    "9.Bank Transactions: Create a base class called BankAccount with attributes such as account_number and balance. Implement subclasses for different types of accounts such as CheckingAccount and SavingsAccount that inherit from BankAccount. Add additional methods to the subclasses, such as withdraw() and deposit(), and handle any specific behavior or rules for each account type.\n",
    "\n",
    "10.School Management System: Create a base class called Person with attributes such as name, age, and address. Implement subclasses for different roles such as Student, Teacher, and Staff that inherit from Person. Add additional methods to the subclasses, such as take_exam() for students and teach_subject() for teachers"
   ]
  },
  {
   "cell_type": "markdown",
   "id": "947ff50d",
   "metadata": {},
   "source": [
    "# 1."
   ]
  },
  {
   "cell_type": "raw",
   "id": "c9f89a3f",
   "metadata": {},
   "source": [
    "1.he Person class has a constructor that takes name and age as arguments and assigns them to the object's attributes. \n",
    "The introduce method is then invoked on the object to introduce the person"
   ]
  },
  {
   "cell_type": "code",
   "execution_count": 1,
   "id": "c1750e72",
   "metadata": {},
   "outputs": [],
   "source": [
    "class Person():\n",
    "    def __init__(self,name,age):\n",
    "        self.name=name\n",
    "        self.age=age\n",
    "        \n",
    "    def introduce(self):\n",
    "        print(f\"The name is {self.name} and age is {self.age}\")"
   ]
  },
  {
   "cell_type": "code",
   "execution_count": 2,
   "id": "38748692",
   "metadata": {},
   "outputs": [
    {
     "name": "stdout",
     "output_type": "stream",
     "text": [
      "The name is Ram and age is 32\n"
     ]
    }
   ],
   "source": [
    "person=Person(\"Ram\",32)\n",
    "person.introduce()"
   ]
  },
  {
   "cell_type": "markdown",
   "id": "307c0215",
   "metadata": {},
   "source": [
    "# 2"
   ]
  },
  {
   "cell_type": "raw",
   "id": "56fcd5e8",
   "metadata": {},
   "source": [
    "the Car class has a constructor that takes brand and model as arguments and assigns them to the object's attributes. The display_info method is then invoked on the object to display the car's brand and model."
   ]
  },
  {
   "cell_type": "code",
   "execution_count": 3,
   "id": "cd8ac10c",
   "metadata": {},
   "outputs": [],
   "source": [
    "class Car():\n",
    "    def __init__(self,brand,model):\n",
    "        self.brand=brand\n",
    "        self.model=model\n",
    "        \n",
    "    def display_info(self):\n",
    "        print(f\"The car of brand {self.brand} and model {self.model}\")"
   ]
  },
  {
   "cell_type": "code",
   "execution_count": 4,
   "id": "c99959e3",
   "metadata": {},
   "outputs": [
    {
     "name": "stdout",
     "output_type": "stream",
     "text": [
      "The car of brand BMW and model EV\n"
     ]
    }
   ],
   "source": [
    "car=Car(\"BMW\",\"EV\")\n",
    "car.display_info()"
   ]
  },
  {
   "cell_type": "markdown",
   "id": "9c528822",
   "metadata": {},
   "source": [
    "# 3."
   ]
  },
  {
   "cell_type": "code",
   "execution_count": 5,
   "id": "14057464",
   "metadata": {},
   "outputs": [],
   "source": [
    "class Mobilephone():\n",
    "    def __init__(self,brand,model):\n",
    "        self.brand=brand\n",
    "        self.model=model\n",
    "        \n",
    "    def make_call(self):\n",
    "        print(f\"The mobile phone of brand {self.brand} and model {self.model} is making call\")"
   ]
  },
  {
   "cell_type": "code",
   "execution_count": 6,
   "id": "74c93fc1",
   "metadata": {},
   "outputs": [
    {
     "name": "stdout",
     "output_type": "stream",
     "text": [
      "The mobile phone of brand OPPO and model A5S is making call\n"
     ]
    }
   ],
   "source": [
    "mob=Mobilephone(\"OPPO\",\"A5S\")\n",
    "mob.make_call()"
   ]
  },
  {
   "cell_type": "markdown",
   "id": "52a42c89",
   "metadata": {},
   "source": [
    "# 4."
   ]
  },
  {
   "cell_type": "code",
   "execution_count": 7,
   "id": "39539e39",
   "metadata": {},
   "outputs": [],
   "source": [
    "class Book():\n",
    "    def __init__(self,title,author):\n",
    "        self.title=title\n",
    "        self.author=author\n",
    "        \n",
    "    def display_info(self):\n",
    "        print(f\"The author {self.author} has written a book {self.title}\")"
   ]
  },
  {
   "cell_type": "code",
   "execution_count": 8,
   "id": "908423a8",
   "metadata": {},
   "outputs": [
    {
     "name": "stdout",
     "output_type": "stream",
     "text": [
      "The author Dr. A.P.J.Abdul Kalam has written a book Ignited wings\n"
     ]
    }
   ],
   "source": [
    "book=Book(\"Ignited wings\",\"Dr. A.P.J.Abdul Kalam\")\n",
    "book.display_info()"
   ]
  },
  {
   "cell_type": "markdown",
   "id": "53173b8f",
   "metadata": {},
   "source": [
    "# 5."
   ]
  },
  {
   "cell_type": "code",
   "execution_count": 9,
   "id": "799314f1",
   "metadata": {},
   "outputs": [],
   "source": [
    "class Vehicle():\n",
    "    def __init__(self,make,model,year):\n",
    "        self.make=make\n",
    "        self.model=model\n",
    "        self.year=year\n",
    "        \n",
    "class Car(Vehicle):\n",
    "    def __init__(self,make,model,year):\n",
    "        self.make=make\n",
    "        self.model=model\n",
    "        self.year=year\n",
    "        \n",
    "        \n",
    "    def start_engine(self):\n",
    "        print(f\"The {self.make}`s {self.model} is created in year {self.year} is going to start\")\n",
    "        \n",
    "    def stop_engine(self):\n",
    "        print(f\"The {self.make}`s {self.model} is created in year {self.year} is now stopped\")\n",
    "        \n",
    "class Motorcycle(Vehicle):\n",
    "    def __init__(self,make,model,year):\n",
    "        self.make=make\n",
    "        self.model=model\n",
    "        self.year=year\n",
    "    \n",
    "    def start(self):\n",
    "        print(f\"The {self.make}`s {self.model} is created in year {self.year} is going to start\")\n",
    "        \n",
    "    def stop(self):\n",
    "        print(f\"The {self.make}`s {self.model} is created in year {self.year} is now stopped\")\n",
    "        "
   ]
  },
  {
   "cell_type": "markdown",
   "id": "9db74629",
   "metadata": {},
   "source": [
    "# 6."
   ]
  },
  {
   "cell_type": "code",
   "execution_count": 10,
   "id": "7818b1ac",
   "metadata": {},
   "outputs": [],
   "source": [
    "class Animal(): \n",
    "        \n",
    "    def eat(self):\n",
    "        pass\n",
    "        \n",
    "    def sleep(self):\n",
    "        pass\n",
    "    \n",
    "class Cat(Animal):\n",
    "    def __init__(self,name,breed,sound):\n",
    "        self.name=name\n",
    "        self.breed=breed\n",
    "        self.sound=sound\n",
    "        \n",
    "    def eat(self):\n",
    "        print(\"cat eats coocked beef,chicken,deli meat\")\n",
    "        \n",
    "    def sleep(self):\n",
    "        print(\"Cat can sleep 12 to 18 hours a day\")\n",
    "    \n",
    "    def make_sound(self):\n",
    "        print(f\"The cat of breed {self.breed} makes sound {self.sound} is too sweet\")\n",
    "     \n",
    "        \n",
    "    \n",
    "class Dog(Animal):\n",
    "    def __init__(self,breed,feature,sleeping_time):\n",
    "        self.breed=breed\n",
    "        self.feature=feature\n",
    "        self.sleeping_time=sleeping_time\n",
    "        \n",
    "    def eat(self):\n",
    "        print(\"Dogs are not wholy carnivorous and not wholy herbivorous they are mixed type\")\n",
    "        \n",
    "    def sleep(self):\n",
    "        print(f\"Dogs of breed {self.breed} can sleep {self.sleeping_time} in a day\")\n",
    "    \n",
    "    def make_sound(self):\n",
    "        print(\"The sound of a dog is called barking\")\n",
    "        \n",
    "    def dog_feature(self):\n",
    "        print(f\"The dog of breed {self.breed} have {self.feature}\")"
   ]
  },
  {
   "cell_type": "code",
   "execution_count": 11,
   "id": "b814e58f",
   "metadata": {},
   "outputs": [
    {
     "name": "stdout",
     "output_type": "stream",
     "text": [
      "Cat can sleep 12 to 18 hours a day\n",
      "The cat of breed British makes sound meao is too sweet\n"
     ]
    }
   ],
   "source": [
    "cat1=Cat(\"jimmy\",\"British\",\"meao\")\n",
    "cat1.sleep()\n",
    "cat1.make_sound()"
   ]
  },
  {
   "cell_type": "code",
   "execution_count": 12,
   "id": "9538d12d",
   "metadata": {},
   "outputs": [
    {
     "name": "stdout",
     "output_type": "stream",
     "text": [
      "The sound of a dog is called barking\n",
      "The dog of breed Bulldog have smelling sence\n"
     ]
    }
   ],
   "source": [
    "dog1=Dog(\"Bulldog\",\"smelling sence\",\"11 hours\")\n",
    "dog1.make_sound()\n",
    "dog1.dog_feature()"
   ]
  },
  {
   "cell_type": "markdown",
   "id": "f1b93604",
   "metadata": {},
   "source": [
    "# 7."
   ]
  },
  {
   "cell_type": "code",
   "execution_count": 13,
   "id": "4045585b",
   "metadata": {},
   "outputs": [],
   "source": [
    "class LibraryItem():\n",
    "    def __init__(self,title,author,publication_year):\n",
    "        self.title=title\n",
    "        self.author=author\n",
    "        self.publication_year=publication_year\n",
    "        \n",
    "class Book(LibraryItem):\n",
    "    def __init__(self,title,author,publication_year):\n",
    "        super().__init__(title,author,publication_year)\n",
    "        \n",
    "    def checkout(self):\n",
    "        if book!=Book:\n",
    "            print(f\"The book {self.title} is checked out\")\n",
    "        else:\n",
    "            print(f\"The book {self.title} is available\")\n",
    "            \n",
    "    def return_item(self):\n",
    "        if book==Book:\n",
    "            print(\"The respective book is returned\")\n",
    "        else:\n",
    "            print(\"The respective book is not yet returned\")"
   ]
  },
  {
   "cell_type": "code",
   "execution_count": 14,
   "id": "24f1b67e",
   "metadata": {},
   "outputs": [
    {
     "name": "stdout",
     "output_type": "stream",
     "text": [
      "The book Wings of fire is checked out\n"
     ]
    }
   ],
   "source": [
    "book=Book(\"Wings of fire\",\"A.P.J.Abdul Kalam\",1999)\n",
    "book.checkout()"
   ]
  },
  {
   "cell_type": "code",
   "execution_count": 15,
   "id": "0e0c7787",
   "metadata": {},
   "outputs": [
    {
     "name": "stdout",
     "output_type": "stream",
     "text": [
      "The respective book is not yet returned\n"
     ]
    }
   ],
   "source": [
    "book.return_item()"
   ]
  },
  {
   "cell_type": "markdown",
   "id": "4474c655",
   "metadata": {},
   "source": [
    "# 8."
   ]
  },
  {
   "cell_type": "code",
   "execution_count": 16,
   "id": "2b152a65",
   "metadata": {},
   "outputs": [],
   "source": [
    "class Department():\n",
    "    def __init__(self,empname):\n",
    "        self.empname=empname\n",
    "        self.employees=[]\n",
    "        \n",
    "    def add_emp(self,employee):\n",
    "        self.employees.append(employee)\n",
    "        \n",
    "    def emp_attendance(self,employee):\n",
    "        if employee in self.employees:\n",
    "            self.employees.remove(employee)\n",
    "            print(f\"Employee '{employee}' now not work in department\")\n",
    "        else:\n",
    "            print(\"Employee name is not found\")\n",
    "            \n",
    "    def dispaly_Epmname(self):\n",
    "        for employee in self.employees:\n",
    "            print(employee)\n",
    "    \n",
    "\n",
    "class Employee():\n",
    "    def __init__(self,name,salary,department):\n",
    "        self.name=name\n",
    "        self.salary=salary\n",
    "        self.department=department\n",
    "        \n",
    "class Manager(Employee):\n",
    "    def __init__(self,name,salary,department,task):\n",
    "        super().__init__(name,salary,department)\n",
    "        self.task=task\n",
    "       \n",
    "    def assign_task(self):\n",
    "        print(f\"The task of employee '{self.name}' is {self.task}\")\n",
    "        \n",
    "class Staff(Employee):\n",
    "    def __init__(self,name,salary,department,meeting_time):\n",
    "        super().__init__(name,salary,department)\n",
    "        self.meeting_time=meeting_time\n",
    "        \n",
    "    def attend_meeting(self):\n",
    "        print(f\"Staff members must have to attend meeting on time {self.meeting_time}\")"
   ]
  },
  {
   "cell_type": "code",
   "execution_count": 17,
   "id": "292315d3",
   "metadata": {},
   "outputs": [
    {
     "name": "stdout",
     "output_type": "stream",
     "text": [
      "sam doe\n",
      "mickel jonas\n",
      "joseff kel\n"
     ]
    }
   ],
   "source": [
    "dept=Department(\"Ram kumar\")\n",
    "dept.add_emp(\"sam doe\")\n",
    "dept.add_emp(\"mickel jonas\")\n",
    "dept.add_emp(\"joseff kel\")\n",
    "dept.dispaly_Epmname()"
   ]
  },
  {
   "cell_type": "code",
   "execution_count": 18,
   "id": "dc877a08",
   "metadata": {},
   "outputs": [
    {
     "name": "stdout",
     "output_type": "stream",
     "text": [
      "Employee 'sam doe' now not work in department\n"
     ]
    }
   ],
   "source": [
    "dept.emp_attendance(\"sam doe\")"
   ]
  },
  {
   "cell_type": "code",
   "execution_count": 19,
   "id": "a1a26487",
   "metadata": {},
   "outputs": [
    {
     "name": "stdout",
     "output_type": "stream",
     "text": [
      "mickel jonas\n",
      "joseff kel\n"
     ]
    }
   ],
   "source": [
    "dept.dispaly_Epmname()"
   ]
  },
  {
   "cell_type": "code",
   "execution_count": 20,
   "id": "6ba8d555",
   "metadata": {},
   "outputs": [
    {
     "name": "stdout",
     "output_type": "stream",
     "text": [
      "The task of employee 'ram' is Data analysis\n"
     ]
    }
   ],
   "source": [
    "emp1=(\"ram\",23000,\"IT\")\n",
    "manager1=Manager(\"ram\",23000,\"IT\",\"Data analysis\")\n",
    "manager1.assign_task()"
   ]
  },
  {
   "cell_type": "code",
   "execution_count": 21,
   "id": "09515fca",
   "metadata": {},
   "outputs": [
    {
     "name": "stdout",
     "output_type": "stream",
     "text": [
      "Staff members must have to attend meeting on time 12pm\n"
     ]
    }
   ],
   "source": [
    "st1=Staff(\"ram\",23000,\"IT\",\"12pm\")\n",
    "st1.attend_meeting()"
   ]
  },
  {
   "cell_type": "markdown",
   "id": "84de1ba9",
   "metadata": {},
   "source": [
    "# 9."
   ]
  },
  {
   "cell_type": "code",
   "execution_count": 22,
   "id": "2d3bb309",
   "metadata": {},
   "outputs": [],
   "source": [
    "class Bank_Account():\n",
    "    def __init__(self,ACno,balance):\n",
    "        self.ACno=ACno\n",
    "        self.balance=balance\n",
    "        self.ACtype=[]\n",
    "        \n",
    "    def add_type(self,Atype):\n",
    "        self.ACtype.append(Atype)\n",
    "        \n",
    "class Account_type(Bank_Account):\n",
    "    def __init__(self,ACno,balance,ACtype):\n",
    "        super().__init__(ACno,balance)\n",
    "        self.ACtype=ACtype\n",
    "        \n",
    "    def deposit(self,amount,ACtype):\n",
    "        if ACtype==self.ACtype or ACtype==self.ACtype:\n",
    "            self.balance=self.balance+amount\n",
    "            print(f\"Current balance is: {self.balance}\")\n",
    "                  \n",
    "        else:\n",
    "                  print(\"Enter correct information\")\n",
    "                \n",
    "    def withdrawal(self,amount,ACtype):\n",
    "        if (ACtype==self.ACtype or ACtype==self.ACtype) and amount<=self.balance: \n",
    "            self.balance=self.balance-amount\n",
    "            print(f\"The current balance is : {self.balance}\")\n",
    "        else:\n",
    "            print(\"Insufficient fund\") "
   ]
  },
  {
   "cell_type": "code",
   "execution_count": 23,
   "id": "0397d087",
   "metadata": {},
   "outputs": [
    {
     "data": {
      "text/plain": [
       "['checking', 'saving']"
      ]
     },
     "execution_count": 23,
     "metadata": {},
     "output_type": "execute_result"
    }
   ],
   "source": [
    "varsha=Bank_Account(24514,2000)\n",
    "varsha.add_type('checking')\n",
    "varsha.add_type(\"saving\")\n",
    "varsha.ACtype"
   ]
  },
  {
   "cell_type": "code",
   "execution_count": 24,
   "id": "cf148059",
   "metadata": {},
   "outputs": [
    {
     "name": "stdout",
     "output_type": "stream",
     "text": [
      "Current balance is: 7000\n"
     ]
    }
   ],
   "source": [
    "varsha=Account_type(2514,2000,\"cheking\")\n",
    "varsha.deposit(5000,\"cheking\")"
   ]
  },
  {
   "cell_type": "code",
   "execution_count": 25,
   "id": "73aefa4a",
   "metadata": {},
   "outputs": [
    {
     "name": "stdout",
     "output_type": "stream",
     "text": [
      "The current balance is : 4000\n"
     ]
    }
   ],
   "source": [
    "varsha.withdrawal(3000,\"cheking\")"
   ]
  },
  {
   "cell_type": "code",
   "execution_count": 26,
   "id": "a70b6747",
   "metadata": {},
   "outputs": [
    {
     "data": {
      "text/plain": [
       "4000"
      ]
     },
     "execution_count": 26,
     "metadata": {},
     "output_type": "execute_result"
    }
   ],
   "source": [
    "varsha.balance"
   ]
  },
  {
   "cell_type": "markdown",
   "id": "c966f985",
   "metadata": {},
   "source": [
    "# 10."
   ]
  },
  {
   "cell_type": "code",
   "execution_count": 27,
   "id": "3c5b2eaf",
   "metadata": {},
   "outputs": [],
   "source": [
    "class Person():\n",
    "    def __init__(self,name,age,address):\n",
    "        self.name=name\n",
    "        self.age=age\n",
    "        self.addres=address\n",
    "        \n",
    "class Student(Person):\n",
    "    def __init__(self,name,age,address,subject):\n",
    "        super().__init__(name,age,address)\n",
    "        self.subject=subject\n",
    "        \n",
    "    def take_exam(self):\n",
    "            print(f\"{self.name} , tomorrow there is exam of '{self.subject}' subject\")\n",
    "      \n",
    "class Teacher(Person):\n",
    "    def __init__(self,name,age,address,subject):\n",
    "        super().__init__(name,age,address)\n",
    "        self.subject=subject\n",
    "        \n",
    "    def teach_subject(self,subject):\n",
    "            print(f\" {self.name} teacher teaches '{self.subject}' subject\" )   "
   ]
  },
  {
   "cell_type": "code",
   "execution_count": 28,
   "id": "9527c0b1",
   "metadata": {},
   "outputs": [
    {
     "name": "stdout",
     "output_type": "stream",
     "text": [
      " R.S.Patil teacher teaches 'Chemistry' subject\n",
      "Ram , tomorrow there is exam of 'maths' subject\n"
     ]
    }
   ],
   "source": [
    "stu1=Person(\"Ram\",17,\"A/P malegaon\")\n",
    "stu1=Student(\"Ram\",17,\"A/P malegaon\",\"maths\")\n",
    "teacher1=Teacher(\"R.S.Patil\",56,\"A/P malegaon\",\"Chemistry\")\n",
    "teacher1.teach_subject(\"maths\")\n",
    "stu1.take_exam()"
   ]
  }
 ],
 "metadata": {
  "kernelspec": {
   "display_name": "Python 3 (ipykernel)",
   "language": "python",
   "name": "python3"
  },
  "language_info": {
   "codemirror_mode": {
    "name": "ipython",
    "version": 3
   },
   "file_extension": ".py",
   "mimetype": "text/x-python",
   "name": "python",
   "nbconvert_exporter": "python",
   "pygments_lexer": "ipython3",
   "version": "3.9.7"
  }
 },
 "nbformat": 4,
 "nbformat_minor": 5
}
